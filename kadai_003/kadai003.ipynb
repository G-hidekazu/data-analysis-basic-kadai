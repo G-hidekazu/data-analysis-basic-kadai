{
  "nbformat": 4,
  "nbformat_minor": 0,
  "metadata": {
    "colab": {
      "provenance": []
    },
    "kernelspec": {
      "name": "python3",
      "display_name": "Python 3"
    },
    "language_info": {
      "name": "python"
    }
  },
  "cells": [
    {
      "cell_type": "code",
      "execution_count": 6,
      "metadata": {
        "colab": {
          "base_uri": "https://localhost:8080/"
        },
        "id": "7H6xE7vLGE9y",
        "outputId": "c89aab8e-d3fd-4096-f418-dde6085d04c2"
      },
      "outputs": [
        {
          "output_type": "stream",
          "name": "stdout",
          "text": [
            "47\n"
          ]
        }
      ],
      "source": [
        "import numpy as np\n",
        "\n",
        "#行列定義\n",
        "A  = np.array([[0,1],[2,3],[4,5]])\n",
        "B  = np.array([[0,1,2,3],[4,5,6,7]])\n",
        "\n",
        "#積の計算\n",
        "C = np.dot(A,B)\n",
        "\n",
        "#最大値\n",
        "max = C.max()\n",
        "\n",
        "#表示\n",
        "print(max)\n",
        "\n"
      ]
    },
    {
      "cell_type": "code",
      "source": [],
      "metadata": {
        "id": "YWDBWuxcGfz0"
      },
      "execution_count": null,
      "outputs": []
    }
  ]
}